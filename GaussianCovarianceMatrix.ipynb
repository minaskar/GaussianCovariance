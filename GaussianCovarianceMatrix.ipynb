{
 "cells": [
  {
   "cell_type": "markdown",
   "metadata": {},
   "source": [
    "# Gaussian Covariance Matrix"
   ]
  },
  {
   "cell_type": "markdown",
   "metadata": {},
   "source": [
    "Following Grieb et al. [arXiv:1509.04293]"
   ]
  },
  {
   "cell_type": "code",
   "execution_count": 1,
   "metadata": {},
   "outputs": [],
   "source": [
    "import numpy as np\n",
    "from matplotlib import pyplot as plt\n",
    "import classylss\n",
    "import classylss.binding as CLASS\n",
    "#from scipy.interpolate import InterpolatedUnivariateSpline as Spline\n",
    "#from scipy.integrate import simps\n",
    "#from numpy.linalg import inv"
   ]
  },
  {
   "cell_type": "code",
   "execution_count": 2,
   "metadata": {},
   "outputs": [],
   "source": [
    "cosmo_Planck2015 = CLASS.ClassEngine({'h' : 0.676, 'Omega_b' : 0.022/0.676**2,  'Omega_cdm' : 0.31-0.022/0.676**2, 'n_s' : 0.96, 'A_s' : 2.0e-9, 'non linear' : 'halofit', 'output' : 'tCl,pCl,lCl,mPk', 'P_k_max_h/Mpc' : 10., \"z_max_pk\" : 100.0})\n",
    "cosmo_Patchy = CLASS.ClassEngine({'H0' : 67.77, 'Omega_b' : 0.048206,  'Omega_cdm' : 0.307115-0.048206, 'n_s' : 0.9611, 'A_s' : 2.148e-9, 'non linear' : 'halofit', 'output' : 'tCl,pCl,lCl,mPk', 'P_k_max_h/Mpc' : 10., \"z_max_pk\" : 100.0})\n",
    "cosmo = cosmo_Patchy\n",
    "sp = CLASS.Spectra(cosmo)\n",
    "bg = CLASS.Background(cosmo)\n",
    "\n",
    "# BOSS DR12-NGC Z3\n",
    "beff= 2.0\n",
    "n = 0.0002068\n",
    "v = 2793308269.42\n",
    "zeff = 0.61\n",
    "\n",
    "kmin = 0.0\n",
    "kmax = 0.6\n",
    "nkbins = 120\n",
    "\n",
    "dk = (kmax-kmin)/nkbins\n",
    "krange = np.linspace(kmin+dk/2, kmax-dk/2, nkbins)\n",
    "\n",
    "# Use estimated Power Spectrum to compute covariance instead.\n",
    "#power = np.loadtxt('PowerSpectrum_Patchy-Mocks-DR12CMASSLOWZTOT-N-V6S-Portsmouth-mass_0001.dat', delimiter=' ', comments='# ')\n",
    "#power = np.loadtxt('PowerSpectrum_Patchy-Mocks-DR12NGC-COMPSAM_V6C_0001.dat', delimiter=' ', comments='# ')\n",
    "#krange = power[:nkbins,1]\n",
    "#P0 = power[:nkbins,3]\n",
    "#P2 = power[:nkbins,4]\n",
    "#P4 = power[:nkbins,5]\n",
    "\n",
    "pk_lin = sp.get_pklin(k=krange, z=zeff)\n",
    "f = bg.scale_independent_growth_rate(zeff)\n",
    "\n",
    "def getpkmod(b,N):\n",
    "    \n",
    "    pk0mod = ( b**2 + 2*b*f/3 + f**2 /5 ) * pk_lin + N\n",
    "    pk2mod = ( 4*b*f/3 + 4*f**2 /7 ) * pk_lin\n",
    "    pk4mod = ( 8 * f**2 /35 ) * pk_lin\n",
    "    \n",
    "    return pk0mod, pk2mod, pk4mod\n",
    "\n",
    "\n",
    "P0, P2, P4 = getpkmod(beff,0.)"
   ]
  },
  {
   "cell_type": "code",
   "execution_count": 9,
   "metadata": {},
   "outputs": [],
   "source": [
    "def sig(k, l1, l2):    \n",
    "    ''' Computes the sigma^2 funtions for multipoles l1 and l2. (eq.A5) '''\n",
    "    \n",
    "    if (l1 + l2 == 0):\n",
    "        s2 = 2. / v * ( ( P0 + 1. / n ) * ( P0 + 1. / n ) + 1. / 5. * P2 * P2 + 1. / 9. * P4 * P4 )\n",
    "    elif (l1 + l2 == 2):\n",
    "        s2 = 2. / v * ( 2. * ( P0 + 1. / n ) * P2 + 2. / 7. * P2 * P2 + 4. / 7. * P2 * P4 + 100. / 693. * P4 * P4 )\n",
    "    elif (l1 + l2 == 4):\n",
    "        s2 = 2. / v * ( 5. * ( P0 + 1. / n ) * ( P0 + 1. / n ) + 20. / 7. * ( P0 + 1. / n ) * ( P2 + P4 ) \\\n",
    "            + 15. / 7 * P2 * P2 + 120. / 77. * P2 * P4 + 8945. / 9009. * P4 * P4)\n",
    "    else:\n",
    "        print('Error')\n",
    "                      \n",
    "    s2 *= k**2\n",
    "    \n",
    "    return s2\n",
    "\n",
    "\n",
    "def covll(k, l1, l2):\n",
    "    ''' \n",
    "    Computes the covariance matrix element C(k) for the multipoles l1 and l2 . (eq.16)\n",
    "    \n",
    "    '''\n",
    "    \n",
    "    Vk = 4. * np.pi * k * k * dk + np.pi * dk**3. / 3.\n",
    "    \n",
    "    covariance = 2. * ( 2. * np.pi )**4. * sig(krange,l1,l2) * dk / Vk**2. \n",
    "        \n",
    "    return covariance\n",
    "\n",
    "\n",
    "def cov():\n",
    "    ''' Computes the full covariance matrix C '''\n",
    "    \n",
    "    cov00 = np.zeros((nkbins,nkbins))\n",
    "    cov02 = cov00\n",
    "    cov20 = cov00\n",
    "    cov22 = cov00\n",
    "    \n",
    "    cov00 = np.diag(covll(krange,0,0))\n",
    "    cov02 = np.diag(covll(krange,0,2))\n",
    "    cov20 = cov02\n",
    "    cov22 = np.diag(covll(krange,2,2))\n",
    "        \n",
    "    cov1 = np.concatenate((cov00, cov02), axis=1)\n",
    "    cov2 = np.concatenate((cov20, cov22), axis=1)\n",
    "    covfull = np.concatenate((cov1, cov2), axis=0) \n",
    "    \n",
    "    return covfull"
   ]
  },
  {
   "cell_type": "code",
   "execution_count": 10,
   "metadata": {},
   "outputs": [
    {
     "data": {
      "text/plain": [
       "<matplotlib.colorbar.Colorbar at 0x125db1588>"
      ]
     },
     "execution_count": 10,
     "metadata": {},
     "output_type": "execute_result"
    },
    {
     "data": {
      "image/png": "[encoded data removed]",
      "text/plain": [
       "<Figure size 720x720 with 2 Axes>"
      ]
     },
     "metadata": {
      "needs_background": "light"
     },
     "output_type": "display_data"
    }
   ],
   "source": [
    "#Monopole & Quadrupole\n",
    "covariance = cov()\n",
    "np.shape(covariance)\n",
    "covariancers= covariance.reshape(240*240)\n",
    "np.savetxt('covariance02.dat', covariancers, delimiter=' ', newline='\\n', header='P0 and P2 covariance matrix 240 x 240', comments='# ')\n",
    "plt.figure(figsize=(10,10))\n",
    "plt.imshow(np.corrcoef(covariance))\n",
    "plt.colorbar()"
   ]
  },
  {
   "cell_type": "code",
   "execution_count": 11,
   "metadata": {},
   "outputs": [
    {
     "data": {
      "image/png": "[encoded data removed]",
      "text/plain": [
       "<Figure size 720x720 with 2 Axes>"
      ]
     },
     "metadata": {
      "needs_background": "light"
     },
     "output_type": "display_data"
    }
   ],
   "source": [
    "#Monopole \n",
    "cov_mono = cov()[:120,:120]\n",
    "covariancers= cov_mono.reshape(120*120)\n",
    "np.savetxt('covariance0.dat', covariancers, delimiter=' ', newline='\\n', header='P0 covariance matrix 120 x 120', comments='# ')\n",
    "plt.figure(figsize=(10,10))\n",
    "plt.imshow(np.corrcoef(cov_mono))\n",
    "plt.colorbar()\n",
    "plt.show()"
   ]
  },
  {
   "cell_type": "code",
   "execution_count": null,
   "metadata": {},
   "outputs": [],
   "source": []
  }
 ],
 "metadata": {
  "kernelspec": {
   "display_name": "Python 3",
   "language": "python",
   "name": "python3"
  },
  "language_info": {
   "codemirror_mode": {
    "name": "ipython",
    "version": 3
   },
   "file_extension": ".py",
   "mimetype": "text/x-python",
   "name": "python",
   "nbconvert_exporter": "python",
   "pygments_lexer": "ipython3",
   "version": "3.6.8"
  },
  "toc": {
   "base_numbering": 1,
   "nav_menu": {},
   "number_sections": false,
   "sideBar": true,
   "skip_h1_title": false,
   "title_cell": "Table of Contents",
   "title_sidebar": "Contents",
   "toc_cell": false,
   "toc_position": {},
   "toc_section_display": true,
   "toc_window_display": false
  }
 },
 "nbformat": 4,
 "nbformat_minor": 2
}
